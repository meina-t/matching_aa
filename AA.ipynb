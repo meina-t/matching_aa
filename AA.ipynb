{
 "cells": [
  {
   "cell_type": "code",
   "execution_count": 1,
   "metadata": {},
   "outputs": [],
   "source": [
    "import pandas as pd\n",
    "import numpy as np"
   ]
  },
  {
   "cell_type": "code",
   "execution_count": 3,
   "metadata": {},
   "outputs": [],
   "source": [
    "def select_aa(df, q, q_a):\n",
    "    # abilityの高い順にソート\n",
    "    sorted_df = df.sort_values(by='ability', ascending=False)\n",
    "    \n",
    "    # abilityの上位q人を選択\n",
    "    top_q_df = sorted_df.head(q)\n",
    "\n",
    "    # 上位q人の中で女子を選択\n",
    "    top_women_df = top_q_df[top_q_df['sex'] == 'women']\n",
    "    \n",
    "    # 上位q人の中で男子を選択\n",
    "    top_men_df = top_q_df[top_q_df['sex'] == 'men']\n",
    "\n",
    "    # 女子がq_a人に満たない場合、女子の追加分を選ぶ\n",
    "    if len(top_women_df) < q_a:\n",
    "        # 不足している女子の人数\n",
    "        deficit = q_a - len(top_women_df)\n",
    "\n",
    "        # 女子全体のデータから、すでに選んだ女子を除いて残りから補う\n",
    "        remaining_women_df = sorted_df[(sorted_df['sex'] == 'women') & (~sorted_df.index.isin(top_women_df.index))]\n",
    "        additional_women_df = remaining_women_df.head(deficit)\n",
    "\n",
    "        # 男子の下位から補う女子の人数分削除\n",
    "        top_men_df = top_men_df.head(len(top_men_df) - deficit)\n",
    "\n",
    "        # 最終的な選ばれたデータフレーム\n",
    "        selected_df = pd.concat([top_women_df, additional_women_df, top_men_df])\n",
    "\n",
    "    else:\n",
    "        selected_df = top_q_df\n",
    "\n",
    "    return top_q_df, selected_df, len(top_women_df)"
   ]
  },
  {
   "cell_type": "code",
   "execution_count": 4,
   "metadata": {},
   "outputs": [],
   "source": [
    "def calc_utility_single(df):\n",
    "    total_count = len(df)\n",
    "    women_ratio = len(df[df['sex'] == 'women']) / total_count\n",
    "    men_ratio = len(df[df['sex'] == 'men']) / total_count\n",
    "\n",
    "    ratio_product = women_ratio * men_ratio\n",
    "\n",
    "    ability_sum = df['ability'].sum()\n",
    "\n",
    "    utility = ratio_product * ability_sum\n",
    "\n",
    "    return utility"
   ]
  },
  {
   "cell_type": "code",
   "execution_count": 5,
   "metadata": {},
   "outputs": [],
   "source": [
    "def calc_utility(women_a, men_a, q, q_a):\n",
    "    results = []\n",
    "    for seed in range(5):\n",
    "        np.random.seed(seed)\n",
    "        sex = ['women'] * women_a + ['men'] * men_a\n",
    "        ability = np.random.rand(women_a + men_a)\n",
    "        df = pd.DataFrame({'sex': sex, 'ability': ability})\n",
    "\n",
    "        top_q_df, selected_df, n = select_aa(df, q, q_a)\n",
    "        \n",
    "        u_aa = calc_utility_single(selected_df)\n",
    "        u_top = calc_utility_single(top_q_df)\n",
    "        \n",
    "        results.append((seed, u_aa, u_top))\n",
    "    \n",
    "    return results"
   ]
  },
  {
   "cell_type": "code",
   "execution_count": 6,
   "metadata": {},
   "outputs": [
    {
     "data": {
      "text/html": [
       "<div>\n",
       "<style scoped>\n",
       "    .dataframe tbody tr th:only-of-type {\n",
       "        vertical-align: middle;\n",
       "    }\n",
       "\n",
       "    .dataframe tbody tr th {\n",
       "        vertical-align: top;\n",
       "    }\n",
       "\n",
       "    .dataframe thead th {\n",
       "        text-align: right;\n",
       "    }\n",
       "</style>\n",
       "<table border=\"1\" class=\"dataframe\">\n",
       "  <thead>\n",
       "    <tr style=\"text-align: right;\">\n",
       "      <th></th>\n",
       "      <th>seed</th>\n",
       "      <th>u_aa</th>\n",
       "      <th>u_top</th>\n",
       "    </tr>\n",
       "  </thead>\n",
       "  <tbody>\n",
       "    <tr>\n",
       "      <th>0</th>\n",
       "      <td>0</td>\n",
       "      <td>568.933484</td>\n",
       "      <td>429.989496</td>\n",
       "    </tr>\n",
       "    <tr>\n",
       "      <th>1</th>\n",
       "      <td>1</td>\n",
       "      <td>570.974150</td>\n",
       "      <td>426.034007</td>\n",
       "    </tr>\n",
       "    <tr>\n",
       "      <th>2</th>\n",
       "      <td>2</td>\n",
       "      <td>563.405349</td>\n",
       "      <td>395.755139</td>\n",
       "    </tr>\n",
       "    <tr>\n",
       "      <th>3</th>\n",
       "      <td>3</td>\n",
       "      <td>569.052976</td>\n",
       "      <td>410.748064</td>\n",
       "    </tr>\n",
       "    <tr>\n",
       "      <th>4</th>\n",
       "      <td>4</td>\n",
       "      <td>570.418271</td>\n",
       "      <td>416.713156</td>\n",
       "    </tr>\n",
       "  </tbody>\n",
       "</table>\n",
       "</div>"
      ],
      "text/plain": [
       "   seed        u_aa       u_top\n",
       "0     0  568.933484  429.989496\n",
       "1     1  570.974150  426.034007\n",
       "2     2  563.405349  395.755139\n",
       "3     3  569.052976  410.748064\n",
       "4     4  570.418271  416.713156"
      ]
     },
     "execution_count": 6,
     "metadata": {},
     "output_type": "execute_result"
    }
   ],
   "source": [
    "results = calc_utility(women_a=1959, men_a=7524, q=3000, q_a=1500)\n",
    "results_df = pd.DataFrame(results, columns=['seed', 'u_aa', 'u_top'])\n",
    "results_df"
   ]
  },
  {
   "cell_type": "code",
   "execution_count": 7,
   "metadata": {},
   "outputs": [
    {
     "data": {
      "text/html": [
       "<div>\n",
       "<style scoped>\n",
       "    .dataframe tbody tr th:only-of-type {\n",
       "        vertical-align: middle;\n",
       "    }\n",
       "\n",
       "    .dataframe tbody tr th {\n",
       "        vertical-align: top;\n",
       "    }\n",
       "\n",
       "    .dataframe thead th {\n",
       "        text-align: right;\n",
       "    }\n",
       "</style>\n",
       "<table border=\"1\" class=\"dataframe\">\n",
       "  <thead>\n",
       "    <tr style=\"text-align: right;\">\n",
       "      <th></th>\n",
       "      <th>q_a</th>\n",
       "      <th>avg_u_aa</th>\n",
       "    </tr>\n",
       "  </thead>\n",
       "  <tbody>\n",
       "    <tr>\n",
       "      <th>0</th>\n",
       "      <td>0</td>\n",
       "      <td>415.847972</td>\n",
       "    </tr>\n",
       "    <tr>\n",
       "      <th>1</th>\n",
       "      <td>100</td>\n",
       "      <td>415.847972</td>\n",
       "    </tr>\n",
       "    <tr>\n",
       "      <th>2</th>\n",
       "      <td>200</td>\n",
       "      <td>415.847972</td>\n",
       "    </tr>\n",
       "    <tr>\n",
       "      <th>3</th>\n",
       "      <td>300</td>\n",
       "      <td>415.847972</td>\n",
       "    </tr>\n",
       "    <tr>\n",
       "      <th>4</th>\n",
       "      <td>400</td>\n",
       "      <td>415.847972</td>\n",
       "    </tr>\n",
       "    <tr>\n",
       "      <th>5</th>\n",
       "      <td>500</td>\n",
       "      <td>415.847972</td>\n",
       "    </tr>\n",
       "    <tr>\n",
       "      <th>6</th>\n",
       "      <td>600</td>\n",
       "      <td>417.475402</td>\n",
       "    </tr>\n",
       "    <tr>\n",
       "      <th>7</th>\n",
       "      <td>700</td>\n",
       "      <td>450.588210</td>\n",
       "    </tr>\n",
       "    <tr>\n",
       "      <th>8</th>\n",
       "      <td>800</td>\n",
       "      <td>490.995067</td>\n",
       "    </tr>\n",
       "    <tr>\n",
       "      <th>9</th>\n",
       "      <td>900</td>\n",
       "      <td>524.215269</td>\n",
       "    </tr>\n",
       "    <tr>\n",
       "      <th>10</th>\n",
       "      <td>1000</td>\n",
       "      <td>550.073637</td>\n",
       "    </tr>\n",
       "    <tr>\n",
       "      <th>11</th>\n",
       "      <td>1100</td>\n",
       "      <td>568.463679</td>\n",
       "    </tr>\n",
       "    <tr>\n",
       "      <th>12</th>\n",
       "      <td>1200</td>\n",
       "      <td>579.378808</td>\n",
       "    </tr>\n",
       "    <tr>\n",
       "      <th>13</th>\n",
       "      <td>1300</td>\n",
       "      <td>582.913403</td>\n",
       "    </tr>\n",
       "    <tr>\n",
       "      <th>14</th>\n",
       "      <td>1400</td>\n",
       "      <td>579.220196</td>\n",
       "    </tr>\n",
       "    <tr>\n",
       "      <th>15</th>\n",
       "      <td>1500</td>\n",
       "      <td>568.556846</td>\n",
       "    </tr>\n",
       "  </tbody>\n",
       "</table>\n",
       "</div>"
      ],
      "text/plain": [
       "     q_a    avg_u_aa\n",
       "0      0  415.847972\n",
       "1    100  415.847972\n",
       "2    200  415.847972\n",
       "3    300  415.847972\n",
       "4    400  415.847972\n",
       "5    500  415.847972\n",
       "6    600  417.475402\n",
       "7    700  450.588210\n",
       "8    800  490.995067\n",
       "9    900  524.215269\n",
       "10  1000  550.073637\n",
       "11  1100  568.463679\n",
       "12  1200  579.378808\n",
       "13  1300  582.913403\n",
       "14  1400  579.220196\n",
       "15  1500  568.556846"
      ]
     },
     "execution_count": 7,
     "metadata": {},
     "output_type": "execute_result"
    }
   ],
   "source": [
    "# q_aを0から100刻みで試行し、それぞれのu_aaの平均を計算\n",
    "def run_experiments(women_a, men_a, q, q_a_range):\n",
    "    results_list = []\n",
    "    \n",
    "    for q_a in q_a_range:\n",
    "        results = calc_utility(women_a=women_a, men_a=men_a, q=q, q_a=q_a)\n",
    "        results_df = pd.DataFrame(results, columns=['seed', 'u_aa', 'u_top'])\n",
    "        \n",
    "        # 各q_aに対して、u_aaの平均を計算\n",
    "        avg_u_aa = results_df['u_aa'].mean()\n",
    "        results_list.append({'q_a': q_a, 'avg_u_aa': avg_u_aa})\n",
    "    \n",
    "    return pd.DataFrame(results_list)\n",
    "\n",
    "# パラメータの設定\n",
    "women_a = 1959\n",
    "men_a = 7524\n",
    "q = 3000\n",
    "q_a_range = range(0, 1600, 100)  # q_aを0から1500まで100刻みで試行\n",
    "\n",
    "# 実験の実行\n",
    "final_results_df = run_experiments(women_a, men_a, q, q_a_range)\n",
    "\n",
    "final_results_df"
   ]
  },
  {
   "cell_type": "code",
   "execution_count": 8,
   "metadata": {},
   "outputs": [
    {
     "data": {
      "application/vnd.plotly.v1+json": {
       "config": {
        "plotlyServerURL": "https://plot.ly"
       },
       "data": [
        {
         "hovertemplate": "q_a=%{x}<br>Average u_aa=%{y}<extra></extra>",
         "legendgroup": "",
         "line": {
          "color": "#636efa",
          "dash": "solid"
         },
         "marker": {
          "symbol": "circle"
         },
         "mode": "lines",
         "name": "",
         "orientation": "v",
         "showlegend": false,
         "type": "scatter",
         "x": [
          0,
          100,
          200,
          300,
          400,
          500,
          600,
          700,
          800,
          900,
          1000,
          1100,
          1200,
          1300,
          1400,
          1500
         ],
         "xaxis": "x",
         "y": [
          415.847972409023,
          415.847972409023,
          415.847972409023,
          415.847972409023,
          415.847972409023,
          415.847972409023,
          417.4754019309943,
          450.58820992374524,
          490.99506704876876,
          524.2152693470241,
          550.0736366503758,
          568.4636794047371,
          579.3788084573014,
          582.9134034191026,
          579.2201955268634,
          568.5568458166123
         ],
         "yaxis": "y"
        }
       ],
       "layout": {
        "legend": {
         "tracegroupgap": 0
        },
        "template": {
         "data": {
          "bar": [
           {
            "error_x": {
             "color": "#2a3f5f"
            },
            "error_y": {
             "color": "#2a3f5f"
            },
            "marker": {
             "line": {
              "color": "#E5ECF6",
              "width": 0.5
             },
             "pattern": {
              "fillmode": "overlay",
              "size": 10,
              "solidity": 0.2
             }
            },
            "type": "bar"
           }
          ],
          "barpolar": [
           {
            "marker": {
             "line": {
              "color": "#E5ECF6",
              "width": 0.5
             },
             "pattern": {
              "fillmode": "overlay",
              "size": 10,
              "solidity": 0.2
             }
            },
            "type": "barpolar"
           }
          ],
          "carpet": [
           {
            "aaxis": {
             "endlinecolor": "#2a3f5f",
             "gridcolor": "white",
             "linecolor": "white",
             "minorgridcolor": "white",
             "startlinecolor": "#2a3f5f"
            },
            "baxis": {
             "endlinecolor": "#2a3f5f",
             "gridcolor": "white",
             "linecolor": "white",
             "minorgridcolor": "white",
             "startlinecolor": "#2a3f5f"
            },
            "type": "carpet"
           }
          ],
          "choropleth": [
           {
            "colorbar": {
             "outlinewidth": 0,
             "ticks": ""
            },
            "type": "choropleth"
           }
          ],
          "contour": [
           {
            "colorbar": {
             "outlinewidth": 0,
             "ticks": ""
            },
            "colorscale": [
             [
              0,
              "#0d0887"
             ],
             [
              0.1111111111111111,
              "#46039f"
             ],
             [
              0.2222222222222222,
              "#7201a8"
             ],
             [
              0.3333333333333333,
              "#9c179e"
             ],
             [
              0.4444444444444444,
              "#bd3786"
             ],
             [
              0.5555555555555556,
              "#d8576b"
             ],
             [
              0.6666666666666666,
              "#ed7953"
             ],
             [
              0.7777777777777778,
              "#fb9f3a"
             ],
             [
              0.8888888888888888,
              "#fdca26"
             ],
             [
              1,
              "#f0f921"
             ]
            ],
            "type": "contour"
           }
          ],
          "contourcarpet": [
           {
            "colorbar": {
             "outlinewidth": 0,
             "ticks": ""
            },
            "type": "contourcarpet"
           }
          ],
          "heatmap": [
           {
            "colorbar": {
             "outlinewidth": 0,
             "ticks": ""
            },
            "colorscale": [
             [
              0,
              "#0d0887"
             ],
             [
              0.1111111111111111,
              "#46039f"
             ],
             [
              0.2222222222222222,
              "#7201a8"
             ],
             [
              0.3333333333333333,
              "#9c179e"
             ],
             [
              0.4444444444444444,
              "#bd3786"
             ],
             [
              0.5555555555555556,
              "#d8576b"
             ],
             [
              0.6666666666666666,
              "#ed7953"
             ],
             [
              0.7777777777777778,
              "#fb9f3a"
             ],
             [
              0.8888888888888888,
              "#fdca26"
             ],
             [
              1,
              "#f0f921"
             ]
            ],
            "type": "heatmap"
           }
          ],
          "heatmapgl": [
           {
            "colorbar": {
             "outlinewidth": 0,
             "ticks": ""
            },
            "colorscale": [
             [
              0,
              "#0d0887"
             ],
             [
              0.1111111111111111,
              "#46039f"
             ],
             [
              0.2222222222222222,
              "#7201a8"
             ],
             [
              0.3333333333333333,
              "#9c179e"
             ],
             [
              0.4444444444444444,
              "#bd3786"
             ],
             [
              0.5555555555555556,
              "#d8576b"
             ],
             [
              0.6666666666666666,
              "#ed7953"
             ],
             [
              0.7777777777777778,
              "#fb9f3a"
             ],
             [
              0.8888888888888888,
              "#fdca26"
             ],
             [
              1,
              "#f0f921"
             ]
            ],
            "type": "heatmapgl"
           }
          ],
          "histogram": [
           {
            "marker": {
             "pattern": {
              "fillmode": "overlay",
              "size": 10,
              "solidity": 0.2
             }
            },
            "type": "histogram"
           }
          ],
          "histogram2d": [
           {
            "colorbar": {
             "outlinewidth": 0,
             "ticks": ""
            },
            "colorscale": [
             [
              0,
              "#0d0887"
             ],
             [
              0.1111111111111111,
              "#46039f"
             ],
             [
              0.2222222222222222,
              "#7201a8"
             ],
             [
              0.3333333333333333,
              "#9c179e"
             ],
             [
              0.4444444444444444,
              "#bd3786"
             ],
             [
              0.5555555555555556,
              "#d8576b"
             ],
             [
              0.6666666666666666,
              "#ed7953"
             ],
             [
              0.7777777777777778,
              "#fb9f3a"
             ],
             [
              0.8888888888888888,
              "#fdca26"
             ],
             [
              1,
              "#f0f921"
             ]
            ],
            "type": "histogram2d"
           }
          ],
          "histogram2dcontour": [
           {
            "colorbar": {
             "outlinewidth": 0,
             "ticks": ""
            },
            "colorscale": [
             [
              0,
              "#0d0887"
             ],
             [
              0.1111111111111111,
              "#46039f"
             ],
             [
              0.2222222222222222,
              "#7201a8"
             ],
             [
              0.3333333333333333,
              "#9c179e"
             ],
             [
              0.4444444444444444,
              "#bd3786"
             ],
             [
              0.5555555555555556,
              "#d8576b"
             ],
             [
              0.6666666666666666,
              "#ed7953"
             ],
             [
              0.7777777777777778,
              "#fb9f3a"
             ],
             [
              0.8888888888888888,
              "#fdca26"
             ],
             [
              1,
              "#f0f921"
             ]
            ],
            "type": "histogram2dcontour"
           }
          ],
          "mesh3d": [
           {
            "colorbar": {
             "outlinewidth": 0,
             "ticks": ""
            },
            "type": "mesh3d"
           }
          ],
          "parcoords": [
           {
            "line": {
             "colorbar": {
              "outlinewidth": 0,
              "ticks": ""
             }
            },
            "type": "parcoords"
           }
          ],
          "pie": [
           {
            "automargin": true,
            "type": "pie"
           }
          ],
          "scatter": [
           {
            "fillpattern": {
             "fillmode": "overlay",
             "size": 10,
             "solidity": 0.2
            },
            "type": "scatter"
           }
          ],
          "scatter3d": [
           {
            "line": {
             "colorbar": {
              "outlinewidth": 0,
              "ticks": ""
             }
            },
            "marker": {
             "colorbar": {
              "outlinewidth": 0,
              "ticks": ""
             }
            },
            "type": "scatter3d"
           }
          ],
          "scattercarpet": [
           {
            "marker": {
             "colorbar": {
              "outlinewidth": 0,
              "ticks": ""
             }
            },
            "type": "scattercarpet"
           }
          ],
          "scattergeo": [
           {
            "marker": {
             "colorbar": {
              "outlinewidth": 0,
              "ticks": ""
             }
            },
            "type": "scattergeo"
           }
          ],
          "scattergl": [
           {
            "marker": {
             "colorbar": {
              "outlinewidth": 0,
              "ticks": ""
             }
            },
            "type": "scattergl"
           }
          ],
          "scattermapbox": [
           {
            "marker": {
             "colorbar": {
              "outlinewidth": 0,
              "ticks": ""
             }
            },
            "type": "scattermapbox"
           }
          ],
          "scatterpolar": [
           {
            "marker": {
             "colorbar": {
              "outlinewidth": 0,
              "ticks": ""
             }
            },
            "type": "scatterpolar"
           }
          ],
          "scatterpolargl": [
           {
            "marker": {
             "colorbar": {
              "outlinewidth": 0,
              "ticks": ""
             }
            },
            "type": "scatterpolargl"
           }
          ],
          "scatterternary": [
           {
            "marker": {
             "colorbar": {
              "outlinewidth": 0,
              "ticks": ""
             }
            },
            "type": "scatterternary"
           }
          ],
          "surface": [
           {
            "colorbar": {
             "outlinewidth": 0,
             "ticks": ""
            },
            "colorscale": [
             [
              0,
              "#0d0887"
             ],
             [
              0.1111111111111111,
              "#46039f"
             ],
             [
              0.2222222222222222,
              "#7201a8"
             ],
             [
              0.3333333333333333,
              "#9c179e"
             ],
             [
              0.4444444444444444,
              "#bd3786"
             ],
             [
              0.5555555555555556,
              "#d8576b"
             ],
             [
              0.6666666666666666,
              "#ed7953"
             ],
             [
              0.7777777777777778,
              "#fb9f3a"
             ],
             [
              0.8888888888888888,
              "#fdca26"
             ],
             [
              1,
              "#f0f921"
             ]
            ],
            "type": "surface"
           }
          ],
          "table": [
           {
            "cells": {
             "fill": {
              "color": "#EBF0F8"
             },
             "line": {
              "color": "white"
             }
            },
            "header": {
             "fill": {
              "color": "#C8D4E3"
             },
             "line": {
              "color": "white"
             }
            },
            "type": "table"
           }
          ]
         },
         "layout": {
          "annotationdefaults": {
           "arrowcolor": "#2a3f5f",
           "arrowhead": 0,
           "arrowwidth": 1
          },
          "autotypenumbers": "strict",
          "coloraxis": {
           "colorbar": {
            "outlinewidth": 0,
            "ticks": ""
           }
          },
          "colorscale": {
           "diverging": [
            [
             0,
             "#8e0152"
            ],
            [
             0.1,
             "#c51b7d"
            ],
            [
             0.2,
             "#de77ae"
            ],
            [
             0.3,
             "#f1b6da"
            ],
            [
             0.4,
             "#fde0ef"
            ],
            [
             0.5,
             "#f7f7f7"
            ],
            [
             0.6,
             "#e6f5d0"
            ],
            [
             0.7,
             "#b8e186"
            ],
            [
             0.8,
             "#7fbc41"
            ],
            [
             0.9,
             "#4d9221"
            ],
            [
             1,
             "#276419"
            ]
           ],
           "sequential": [
            [
             0,
             "#0d0887"
            ],
            [
             0.1111111111111111,
             "#46039f"
            ],
            [
             0.2222222222222222,
             "#7201a8"
            ],
            [
             0.3333333333333333,
             "#9c179e"
            ],
            [
             0.4444444444444444,
             "#bd3786"
            ],
            [
             0.5555555555555556,
             "#d8576b"
            ],
            [
             0.6666666666666666,
             "#ed7953"
            ],
            [
             0.7777777777777778,
             "#fb9f3a"
            ],
            [
             0.8888888888888888,
             "#fdca26"
            ],
            [
             1,
             "#f0f921"
            ]
           ],
           "sequentialminus": [
            [
             0,
             "#0d0887"
            ],
            [
             0.1111111111111111,
             "#46039f"
            ],
            [
             0.2222222222222222,
             "#7201a8"
            ],
            [
             0.3333333333333333,
             "#9c179e"
            ],
            [
             0.4444444444444444,
             "#bd3786"
            ],
            [
             0.5555555555555556,
             "#d8576b"
            ],
            [
             0.6666666666666666,
             "#ed7953"
            ],
            [
             0.7777777777777778,
             "#fb9f3a"
            ],
            [
             0.8888888888888888,
             "#fdca26"
            ],
            [
             1,
             "#f0f921"
            ]
           ]
          },
          "colorway": [
           "#636efa",
           "#EF553B",
           "#00cc96",
           "#ab63fa",
           "#FFA15A",
           "#19d3f3",
           "#FF6692",
           "#B6E880",
           "#FF97FF",
           "#FECB52"
          ],
          "font": {
           "color": "#2a3f5f"
          },
          "geo": {
           "bgcolor": "white",
           "lakecolor": "white",
           "landcolor": "#E5ECF6",
           "showlakes": true,
           "showland": true,
           "subunitcolor": "white"
          },
          "hoverlabel": {
           "align": "left"
          },
          "hovermode": "closest",
          "mapbox": {
           "style": "light"
          },
          "paper_bgcolor": "white",
          "plot_bgcolor": "#E5ECF6",
          "polar": {
           "angularaxis": {
            "gridcolor": "white",
            "linecolor": "white",
            "ticks": ""
           },
           "bgcolor": "#E5ECF6",
           "radialaxis": {
            "gridcolor": "white",
            "linecolor": "white",
            "ticks": ""
           }
          },
          "scene": {
           "xaxis": {
            "backgroundcolor": "#E5ECF6",
            "gridcolor": "white",
            "gridwidth": 2,
            "linecolor": "white",
            "showbackground": true,
            "ticks": "",
            "zerolinecolor": "white"
           },
           "yaxis": {
            "backgroundcolor": "#E5ECF6",
            "gridcolor": "white",
            "gridwidth": 2,
            "linecolor": "white",
            "showbackground": true,
            "ticks": "",
            "zerolinecolor": "white"
           },
           "zaxis": {
            "backgroundcolor": "#E5ECF6",
            "gridcolor": "white",
            "gridwidth": 2,
            "linecolor": "white",
            "showbackground": true,
            "ticks": "",
            "zerolinecolor": "white"
           }
          },
          "shapedefaults": {
           "line": {
            "color": "#2a3f5f"
           }
          },
          "ternary": {
           "aaxis": {
            "gridcolor": "white",
            "linecolor": "white",
            "ticks": ""
           },
           "baxis": {
            "gridcolor": "white",
            "linecolor": "white",
            "ticks": ""
           },
           "bgcolor": "#E5ECF6",
           "caxis": {
            "gridcolor": "white",
            "linecolor": "white",
            "ticks": ""
           }
          },
          "title": {
           "x": 0.05
          },
          "xaxis": {
           "automargin": true,
           "gridcolor": "white",
           "linecolor": "white",
           "ticks": "",
           "title": {
            "standoff": 15
           },
           "zerolinecolor": "white",
           "zerolinewidth": 2
          },
          "yaxis": {
           "automargin": true,
           "gridcolor": "white",
           "linecolor": "white",
           "ticks": "",
           "title": {
            "standoff": 15
           },
           "zerolinecolor": "white",
           "zerolinewidth": 2
          }
         }
        },
        "title": {
         "text": "Average u_aa vs q_a"
        },
        "xaxis": {
         "anchor": "y",
         "domain": [
          0,
          1
         ],
         "title": {
          "text": "q_a"
         }
        },
        "yaxis": {
         "anchor": "x",
         "domain": [
          0,
          1
         ],
         "title": {
          "text": "Average u_aa"
         }
        }
       }
      }
     },
     "metadata": {},
     "output_type": "display_data"
    }
   ],
   "source": [
    "import plotly.express as px\n",
    "fig = px.line(final_results_df, x='q_a', y='avg_u_aa', title='Average u_aa vs q_a', labels={'q_a': 'q_a', 'avg_u_aa': 'Average u_aa'})\n",
    "fig.show()"
   ]
  },
  {
   "cell_type": "code",
   "execution_count": 9,
   "metadata": {},
   "outputs": [
    {
     "data": {
      "application/vnd.plotly.v1+json": {
       "config": {
        "plotlyServerURL": "https://plot.ly"
       },
       "data": [
        {
         "hovertemplate": "Women Count (women_a)=500<br>q_a=%{x}<br>Average u_aa=%{y}<extra></extra>",
         "legendgroup": "500",
         "line": {
          "color": "#636efa",
          "dash": "solid"
         },
         "marker": {
          "symbol": "circle"
         },
         "mode": "lines",
         "name": "500",
         "orientation": "v",
         "showlegend": true,
         "type": "scatter",
         "x": [
          0,
          100,
          200,
          300,
          400,
          500,
          600,
          700,
          800,
          900,
          1000,
          1100,
          1200,
          1300,
          1400,
          1500
         ],
         "xaxis": "x",
         "y": [
          141.38406768988085,
          141.38406768988085,
          151.406150698843,
          217.8559073556493,
          275.82808841234896,
          323.8038869800663,
          323.0848153942221,
          322.09779054839686,
          320.81521764289676,
          319.20528600123504,
          317.231090917677,
          314.8439426643739,
          311.9946355680469,
          308.6314282668564,
          304.69138628489463,
          300.08573111013214
         ],
         "yaxis": "y"
        },
        {
         "hovertemplate": "Women Count (women_a)=1000<br>q_a=%{x}<br>Average u_aa=%{y}<extra></extra>",
         "legendgroup": "1000",
         "line": {
          "color": "#EF553B",
          "dash": "solid"
         },
         "marker": {
          "symbol": "circle"
         },
         "mode": "lines",
         "name": "1000",
         "orientation": "v",
         "showlegend": true,
         "type": "scatter",
         "x": [
          0,
          100,
          200,
          300,
          400,
          500,
          600,
          700,
          800,
          900,
          1000,
          1100,
          1200,
          1300,
          1400,
          1500
         ],
         "xaxis": "x",
         "y": [
          254.35027417705845,
          254.35027417705845,
          254.35027417705845,
          254.35027417705845,
          284.8065683643506,
          340.7461141290415,
          388.9885605793111,
          428.95696305354676,
          460.23737225710994,
          482.4964069100653,
          495.62388194146587,
          487.1940729404103,
          477.85065130556734,
          467.51358233006624,
          456.0949237166762,
          443.4834999325365
         ],
         "yaxis": "y"
        },
        {
         "hovertemplate": "Women Count (women_a)=1500<br>q_a=%{x}<br>Average u_aa=%{y}<extra></extra>",
         "legendgroup": "1500",
         "line": {
          "color": "#00cc96",
          "dash": "solid"
         },
         "marker": {
          "symbol": "circle"
         },
         "mode": "lines",
         "name": "1500",
         "orientation": "v",
         "showlegend": true,
         "type": "scatter",
         "x": [
          0,
          100,
          200,
          300,
          400,
          500,
          600,
          700,
          800,
          900,
          1000,
          1100,
          1200,
          1300,
          1400,
          1500
         ],
         "xaxis": "x",
         "y": [
          347.8874082270577,
          347.8874082270577,
          347.8874082270577,
          347.8874082270577,
          347.8874082270577,
          350.92249368578877,
          398.9270994653204,
          443.87217428408803,
          481.33274501451416,
          511.0118480449216,
          532.7738789788109,
          546.5881945311177,
          552.5049401502263,
          550.6166068033519,
          541.2240512107912,
          524.734973331794
         ],
         "yaxis": "y"
        },
        {
         "hovertemplate": "Women Count (women_a)=2000<br>q_a=%{x}<br>Average u_aa=%{y}<extra></extra>",
         "legendgroup": "2000",
         "line": {
          "color": "#ab63fa",
          "dash": "solid"
         },
         "marker": {
          "symbol": "circle"
         },
         "mode": "lines",
         "name": "2000",
         "orientation": "v",
         "showlegend": true,
         "type": "scatter",
         "x": [
          0,
          100,
          200,
          300,
          400,
          500,
          600,
          700,
          800,
          900,
          1000,
          1100,
          1200,
          1300,
          1400,
          1500
         ],
         "xaxis": "x",
         "y": [
          422.1538511834791,
          422.1538511834791,
          422.1538511834791,
          422.1538511834791,
          422.1538511834791,
          422.1538511834791,
          423.066940331791,
          451.0035644529128,
          491.60831205846245,
          525.073630411983,
          551.207988014003,
          569.9180045680293,
          581.1784734028934,
          585.0804138848175,
          581.7850709190304,
          571.5212748790661
         ],
         "yaxis": "y"
        },
        {
         "hovertemplate": "Women Count (women_a)=2500<br>q_a=%{x}<br>Average u_aa=%{y}<extra></extra>",
         "legendgroup": "2500",
         "line": {
          "color": "#FFA15A",
          "dash": "solid"
         },
         "marker": {
          "symbol": "circle"
         },
         "mode": "lines",
         "name": "2500",
         "orientation": "v",
         "showlegend": true,
         "type": "scatter",
         "x": [
          0,
          100,
          200,
          300,
          400,
          500,
          600,
          700,
          800,
          900,
          1000,
          1100,
          1200,
          1300,
          1400,
          1500
         ],
         "xaxis": "x",
         "y": [
          478.2189595186398,
          478.2189595186398,
          478.2189595186398,
          478.2189595186398,
          478.2189595186398,
          478.2189595186398,
          478.2189595186398,
          478.2189595186398,
          498.11620035395117,
          533.8046179539776,
          562.4890649965025,
          584.0909889139484,
          598.5525827761795,
          605.8797086188877,
          606.1269431289986,
          599.4663129651883
         ],
         "yaxis": "y"
        },
        {
         "hovertemplate": "Women Count (women_a)=3000<br>q_a=%{x}<br>Average u_aa=%{y}<extra></extra>",
         "legendgroup": "3000",
         "line": {
          "color": "#19d3f3",
          "dash": "solid"
         },
         "marker": {
          "symbol": "circle"
         },
         "mode": "lines",
         "name": "3000",
         "orientation": "v",
         "showlegend": true,
         "type": "scatter",
         "x": [
          0,
          100,
          200,
          300,
          400,
          500,
          600,
          700,
          800,
          900,
          1000,
          1100,
          1200,
          1300,
          1400,
          1500
         ],
         "xaxis": "x",
         "y": [
          524.3011061949841,
          524.3011061949841,
          524.3011061949841,
          524.3011061949841,
          524.3011061949841,
          524.3011061949841,
          524.3011061949841,
          524.3011061949841,
          524.3011061949841,
          539.530867589945,
          569.9900339401743,
          593.5691734512422,
          610.1638273840655,
          619.7799943919083,
          622.483312633991,
          618.4026536823126
         ],
         "yaxis": "y"
        },
        {
         "hovertemplate": "Women Count (women_a)=3500<br>q_a=%{x}<br>Average u_aa=%{y}<extra></extra>",
         "legendgroup": "3500",
         "line": {
          "color": "#FF6692",
          "dash": "solid"
         },
         "marker": {
          "symbol": "circle"
         },
         "mode": "lines",
         "name": "3500",
         "orientation": "v",
         "showlegend": true,
         "type": "scatter",
         "x": [
          0,
          100,
          200,
          300,
          400,
          500,
          600,
          700,
          800,
          900,
          1000,
          1100,
          1200,
          1300,
          1400,
          1500
         ],
         "xaxis": "x",
         "y": [
          562.753350033017,
          562.753350033017,
          562.753350033017,
          562.753350033017,
          562.753350033017,
          562.753350033017,
          562.753350033017,
          562.753350033017,
          562.753350033017,
          562.753350033017,
          575.1285732988715,
          600.137378661705,
          618.3519568639716,
          629.6788572254237,
          634.1477282422032,
          631.8539397870093
         ],
         "yaxis": "y"
        },
        {
         "hovertemplate": "Women Count (women_a)=4000<br>q_a=%{x}<br>Average u_aa=%{y}<extra></extra>",
         "legendgroup": "4000",
         "line": {
          "color": "#B6E880",
          "dash": "solid"
         },
         "marker": {
          "symbol": "circle"
         },
         "mode": "lines",
         "name": "4000",
         "orientation": "v",
         "showlegend": true,
         "type": "scatter",
         "x": [
          0,
          100,
          200,
          300,
          400,
          500,
          600,
          700,
          800,
          900,
          1000,
          1100,
          1200,
          1300,
          1400,
          1500
         ],
         "xaxis": "x",
         "y": [
          591.8960127628641,
          591.8960127628641,
          591.8960127628641,
          591.8960127628641,
          591.8960127628641,
          591.8960127628641,
          591.8960127628641,
          591.8960127628641,
          591.8960127628641,
          591.8960127628641,
          591.8960127628641,
          605.313359403209,
          624.6014299595913,
          637.1175649448768,
          642.8737958517248,
          641.8636323931122
         ],
         "yaxis": "y"
        },
        {
         "hovertemplate": "Women Count (women_a)=4500<br>q_a=%{x}<br>Average u_aa=%{y}<extra></extra>",
         "legendgroup": "4500",
         "line": {
          "color": "#FF97FF",
          "dash": "solid"
         },
         "marker": {
          "symbol": "circle"
         },
         "mode": "lines",
         "name": "4500",
         "orientation": "v",
         "showlegend": true,
         "type": "scatter",
         "x": [
          0,
          100,
          200,
          300,
          400,
          500,
          600,
          700,
          800,
          900,
          1000,
          1100,
          1200,
          1300,
          1400,
          1500
         ],
         "xaxis": "x",
         "y": [
          613.6101480806228,
          613.6101480806228,
          613.6101480806228,
          613.6101480806228,
          613.6101480806228,
          613.6101480806228,
          613.6101480806228,
          613.6101480806228,
          613.6101480806228,
          613.6101480806228,
          613.6101480806228,
          614.3221252443933,
          629.199022989904,
          642.6226435057495,
          649.3224360039138,
          649.3198693345647
         ],
         "yaxis": "y"
        },
        {
         "hovertemplate": "Women Count (women_a)=5000<br>q_a=%{x}<br>Average u_aa=%{y}<extra></extra>",
         "legendgroup": "5000",
         "line": {
          "color": "#FECB52",
          "dash": "solid"
         },
         "marker": {
          "symbol": "circle"
         },
         "mode": "lines",
         "name": "5000",
         "orientation": "v",
         "showlegend": true,
         "type": "scatter",
         "x": [
          0,
          100,
          200,
          300,
          400,
          500,
          600,
          700,
          800,
          900,
          1000,
          1100,
          1200,
          1300,
          1400,
          1500
         ],
         "xaxis": "x",
         "y": [
          631.9953730153984,
          631.9953730153984,
          631.9953730153984,
          631.9953730153984,
          631.9953730153984,
          631.9953730153984,
          631.9953730153984,
          631.9953730153984,
          631.9953730153984,
          631.9953730153984,
          631.9953730153984,
          631.9953730153984,
          633.517911973809,
          647.1513179460475,
          654.646995731425,
          655.4509923221889
         ],
         "yaxis": "y"
        },
        {
         "hovertemplate": "Women Count (women_a)=5500<br>q_a=%{x}<br>Average u_aa=%{y}<extra></extra>",
         "legendgroup": "5500",
         "line": {
          "color": "#636efa",
          "dash": "solid"
         },
         "marker": {
          "symbol": "circle"
         },
         "mode": "lines",
         "name": "5500",
         "orientation": "v",
         "showlegend": true,
         "type": "scatter",
         "x": [
          0,
          100,
          200,
          300,
          400,
          500,
          600,
          700,
          800,
          900,
          1000,
          1100,
          1200,
          1300,
          1400,
          1500
         ],
         "xaxis": "x",
         "y": [
          646.0608555256965,
          646.0608555256965,
          646.0608555256965,
          646.0608555256965,
          646.0608555256965,
          646.0608555256965,
          646.0608555256965,
          646.0608555256965,
          646.0608555256965,
          646.0608555256965,
          646.0608555256965,
          646.0608555256965,
          646.0608555256965,
          651.1377126093948,
          659.2706968172345,
          660.7162162809075
         ],
         "yaxis": "y"
        },
        {
         "hovertemplate": "Women Count (women_a)=6000<br>q_a=%{x}<br>Average u_aa=%{y}<extra></extra>",
         "legendgroup": "6000",
         "line": {
          "color": "#EF553B",
          "dash": "solid"
         },
         "marker": {
          "symbol": "circle"
         },
         "mode": "lines",
         "name": "6000",
         "orientation": "v",
         "showlegend": true,
         "type": "scatter",
         "x": [
          0,
          100,
          200,
          300,
          400,
          500,
          600,
          700,
          800,
          900,
          1000,
          1100,
          1200,
          1300,
          1400,
          1500
         ],
         "xaxis": "x",
         "y": [
          657.3862470237342,
          657.3862470237342,
          657.3862470237342,
          657.3862470237342,
          657.3862470237342,
          657.3862470237342,
          657.3862470237342,
          657.3862470237342,
          657.3862470237342,
          657.3862470237342,
          657.3862470237342,
          657.3862470237342,
          657.3862470237342,
          657.4576731905232,
          663.1250639137003,
          665.1565588486162
         ],
         "yaxis": "y"
        },
        {
         "hovertemplate": "Women Count (women_a)=6500<br>q_a=%{x}<br>Average u_aa=%{y}<extra></extra>",
         "legendgroup": "6500",
         "line": {
          "color": "#00cc96",
          "dash": "solid"
         },
         "marker": {
          "symbol": "circle"
         },
         "mode": "lines",
         "name": "6500",
         "orientation": "v",
         "showlegend": true,
         "type": "scatter",
         "x": [
          0,
          100,
          200,
          300,
          400,
          500,
          600,
          700,
          800,
          900,
          1000,
          1100,
          1200,
          1300,
          1400,
          1500
         ],
         "xaxis": "x",
         "y": [
          665.1436303607464,
          665.1436303607464,
          665.1436303607464,
          665.1436303607464,
          665.1436303607464,
          665.1436303607464,
          665.1436303607464,
          665.1436303607464,
          665.1436303607464,
          665.1436303607464,
          665.1436303607464,
          665.1436303607464,
          665.1436303607464,
          665.1436303607464,
          666.2760865811273,
          668.6795834784704
         ],
         "yaxis": "y"
        },
        {
         "hovertemplate": "Women Count (women_a)=7000<br>q_a=%{x}<br>Average u_aa=%{y}<extra></extra>",
         "legendgroup": "7000",
         "line": {
          "color": "#ab63fa",
          "dash": "solid"
         },
         "marker": {
          "symbol": "circle"
         },
         "mode": "lines",
         "name": "7000",
         "orientation": "v",
         "showlegend": true,
         "type": "scatter",
         "x": [
          0,
          100,
          200,
          300,
          400,
          500,
          600,
          700,
          800,
          900,
          1000,
          1100,
          1200,
          1300,
          1400,
          1500
         ],
         "xaxis": "x",
         "y": [
          670.7618508763975,
          670.7618508763975,
          670.7618508763975,
          670.7618508763975,
          670.7618508763975,
          670.7618508763975,
          670.7618508763975,
          670.7618508763975,
          670.7618508763975,
          670.7618508763975,
          670.7618508763975,
          670.7618508763975,
          670.7618508763975,
          670.7618508763975,
          670.7618508763975,
          671.7062981149018
         ],
         "yaxis": "y"
        },
        {
         "hovertemplate": "Women Count (women_a)=7500<br>q_a=%{x}<br>Average u_aa=%{y}<extra></extra>",
         "legendgroup": "7500",
         "line": {
          "color": "#FFA15A",
          "dash": "solid"
         },
         "marker": {
          "symbol": "circle"
         },
         "mode": "lines",
         "name": "7500",
         "orientation": "v",
         "showlegend": true,
         "type": "scatter",
         "x": [
          0,
          100,
          200,
          300,
          400,
          500,
          600,
          700,
          800,
          900,
          1000,
          1100,
          1200,
          1300,
          1400,
          1500
         ],
         "xaxis": "x",
         "y": [
          674.4182211550808,
          674.4182211550808,
          674.4182211550808,
          674.4182211550808,
          674.4182211550808,
          674.4182211550808,
          674.4182211550808,
          674.4182211550808,
          674.4182211550808,
          674.4182211550808,
          674.4182211550808,
          674.4182211550808,
          674.4182211550808,
          674.4182211550808,
          674.4182211550808,
          674.5040634711032
         ],
         "yaxis": "y"
        },
        {
         "hovertemplate": "Women Count (women_a)=8000<br>q_a=%{x}<br>Average u_aa=%{y}<extra></extra>",
         "legendgroup": "8000",
         "line": {
          "color": "#19d3f3",
          "dash": "solid"
         },
         "marker": {
          "symbol": "circle"
         },
         "mode": "lines",
         "name": "8000",
         "orientation": "v",
         "showlegend": true,
         "type": "scatter",
         "x": [
          0,
          100,
          200,
          300,
          400,
          500,
          600,
          700,
          800,
          900,
          1000,
          1100,
          1200,
          1300,
          1400,
          1500
         ],
         "xaxis": "x",
         "y": [
          676.6242253433827,
          676.6242253433827,
          676.6242253433827,
          676.6242253433827,
          676.6242253433827,
          676.6242253433827,
          676.6242253433827,
          676.6242253433827,
          676.6242253433827,
          676.6242253433827,
          676.6242253433827,
          676.6242253433827,
          676.6242253433827,
          676.6242253433827,
          676.6242253433827,
          676.6242253433827
         ],
         "yaxis": "y"
        }
       ],
       "layout": {
        "legend": {
         "title": {
          "text": "Women Count (women_a)"
         },
         "tracegroupgap": 0
        },
        "template": {
         "data": {
          "bar": [
           {
            "error_x": {
             "color": "#2a3f5f"
            },
            "error_y": {
             "color": "#2a3f5f"
            },
            "marker": {
             "line": {
              "color": "#E5ECF6",
              "width": 0.5
             },
             "pattern": {
              "fillmode": "overlay",
              "size": 10,
              "solidity": 0.2
             }
            },
            "type": "bar"
           }
          ],
          "barpolar": [
           {
            "marker": {
             "line": {
              "color": "#E5ECF6",
              "width": 0.5
             },
             "pattern": {
              "fillmode": "overlay",
              "size": 10,
              "solidity": 0.2
             }
            },
            "type": "barpolar"
           }
          ],
          "carpet": [
           {
            "aaxis": {
             "endlinecolor": "#2a3f5f",
             "gridcolor": "white",
             "linecolor": "white",
             "minorgridcolor": "white",
             "startlinecolor": "#2a3f5f"
            },
            "baxis": {
             "endlinecolor": "#2a3f5f",
             "gridcolor": "white",
             "linecolor": "white",
             "minorgridcolor": "white",
             "startlinecolor": "#2a3f5f"
            },
            "type": "carpet"
           }
          ],
          "choropleth": [
           {
            "colorbar": {
             "outlinewidth": 0,
             "ticks": ""
            },
            "type": "choropleth"
           }
          ],
          "contour": [
           {
            "colorbar": {
             "outlinewidth": 0,
             "ticks": ""
            },
            "colorscale": [
             [
              0,
              "#0d0887"
             ],
             [
              0.1111111111111111,
              "#46039f"
             ],
             [
              0.2222222222222222,
              "#7201a8"
             ],
             [
              0.3333333333333333,
              "#9c179e"
             ],
             [
              0.4444444444444444,
              "#bd3786"
             ],
             [
              0.5555555555555556,
              "#d8576b"
             ],
             [
              0.6666666666666666,
              "#ed7953"
             ],
             [
              0.7777777777777778,
              "#fb9f3a"
             ],
             [
              0.8888888888888888,
              "#fdca26"
             ],
             [
              1,
              "#f0f921"
             ]
            ],
            "type": "contour"
           }
          ],
          "contourcarpet": [
           {
            "colorbar": {
             "outlinewidth": 0,
             "ticks": ""
            },
            "type": "contourcarpet"
           }
          ],
          "heatmap": [
           {
            "colorbar": {
             "outlinewidth": 0,
             "ticks": ""
            },
            "colorscale": [
             [
              0,
              "#0d0887"
             ],
             [
              0.1111111111111111,
              "#46039f"
             ],
             [
              0.2222222222222222,
              "#7201a8"
             ],
             [
              0.3333333333333333,
              "#9c179e"
             ],
             [
              0.4444444444444444,
              "#bd3786"
             ],
             [
              0.5555555555555556,
              "#d8576b"
             ],
             [
              0.6666666666666666,
              "#ed7953"
             ],
             [
              0.7777777777777778,
              "#fb9f3a"
             ],
             [
              0.8888888888888888,
              "#fdca26"
             ],
             [
              1,
              "#f0f921"
             ]
            ],
            "type": "heatmap"
           }
          ],
          "heatmapgl": [
           {
            "colorbar": {
             "outlinewidth": 0,
             "ticks": ""
            },
            "colorscale": [
             [
              0,
              "#0d0887"
             ],
             [
              0.1111111111111111,
              "#46039f"
             ],
             [
              0.2222222222222222,
              "#7201a8"
             ],
             [
              0.3333333333333333,
              "#9c179e"
             ],
             [
              0.4444444444444444,
              "#bd3786"
             ],
             [
              0.5555555555555556,
              "#d8576b"
             ],
             [
              0.6666666666666666,
              "#ed7953"
             ],
             [
              0.7777777777777778,
              "#fb9f3a"
             ],
             [
              0.8888888888888888,
              "#fdca26"
             ],
             [
              1,
              "#f0f921"
             ]
            ],
            "type": "heatmapgl"
           }
          ],
          "histogram": [
           {
            "marker": {
             "pattern": {
              "fillmode": "overlay",
              "size": 10,
              "solidity": 0.2
             }
            },
            "type": "histogram"
           }
          ],
          "histogram2d": [
           {
            "colorbar": {
             "outlinewidth": 0,
             "ticks": ""
            },
            "colorscale": [
             [
              0,
              "#0d0887"
             ],
             [
              0.1111111111111111,
              "#46039f"
             ],
             [
              0.2222222222222222,
              "#7201a8"
             ],
             [
              0.3333333333333333,
              "#9c179e"
             ],
             [
              0.4444444444444444,
              "#bd3786"
             ],
             [
              0.5555555555555556,
              "#d8576b"
             ],
             [
              0.6666666666666666,
              "#ed7953"
             ],
             [
              0.7777777777777778,
              "#fb9f3a"
             ],
             [
              0.8888888888888888,
              "#fdca26"
             ],
             [
              1,
              "#f0f921"
             ]
            ],
            "type": "histogram2d"
           }
          ],
          "histogram2dcontour": [
           {
            "colorbar": {
             "outlinewidth": 0,
             "ticks": ""
            },
            "colorscale": [
             [
              0,
              "#0d0887"
             ],
             [
              0.1111111111111111,
              "#46039f"
             ],
             [
              0.2222222222222222,
              "#7201a8"
             ],
             [
              0.3333333333333333,
              "#9c179e"
             ],
             [
              0.4444444444444444,
              "#bd3786"
             ],
             [
              0.5555555555555556,
              "#d8576b"
             ],
             [
              0.6666666666666666,
              "#ed7953"
             ],
             [
              0.7777777777777778,
              "#fb9f3a"
             ],
             [
              0.8888888888888888,
              "#fdca26"
             ],
             [
              1,
              "#f0f921"
             ]
            ],
            "type": "histogram2dcontour"
           }
          ],
          "mesh3d": [
           {
            "colorbar": {
             "outlinewidth": 0,
             "ticks": ""
            },
            "type": "mesh3d"
           }
          ],
          "parcoords": [
           {
            "line": {
             "colorbar": {
              "outlinewidth": 0,
              "ticks": ""
             }
            },
            "type": "parcoords"
           }
          ],
          "pie": [
           {
            "automargin": true,
            "type": "pie"
           }
          ],
          "scatter": [
           {
            "fillpattern": {
             "fillmode": "overlay",
             "size": 10,
             "solidity": 0.2
            },
            "type": "scatter"
           }
          ],
          "scatter3d": [
           {
            "line": {
             "colorbar": {
              "outlinewidth": 0,
              "ticks": ""
             }
            },
            "marker": {
             "colorbar": {
              "outlinewidth": 0,
              "ticks": ""
             }
            },
            "type": "scatter3d"
           }
          ],
          "scattercarpet": [
           {
            "marker": {
             "colorbar": {
              "outlinewidth": 0,
              "ticks": ""
             }
            },
            "type": "scattercarpet"
           }
          ],
          "scattergeo": [
           {
            "marker": {
             "colorbar": {
              "outlinewidth": 0,
              "ticks": ""
             }
            },
            "type": "scattergeo"
           }
          ],
          "scattergl": [
           {
            "marker": {
             "colorbar": {
              "outlinewidth": 0,
              "ticks": ""
             }
            },
            "type": "scattergl"
           }
          ],
          "scattermapbox": [
           {
            "marker": {
             "colorbar": {
              "outlinewidth": 0,
              "ticks": ""
             }
            },
            "type": "scattermapbox"
           }
          ],
          "scatterpolar": [
           {
            "marker": {
             "colorbar": {
              "outlinewidth": 0,
              "ticks": ""
             }
            },
            "type": "scatterpolar"
           }
          ],
          "scatterpolargl": [
           {
            "marker": {
             "colorbar": {
              "outlinewidth": 0,
              "ticks": ""
             }
            },
            "type": "scatterpolargl"
           }
          ],
          "scatterternary": [
           {
            "marker": {
             "colorbar": {
              "outlinewidth": 0,
              "ticks": ""
             }
            },
            "type": "scatterternary"
           }
          ],
          "surface": [
           {
            "colorbar": {
             "outlinewidth": 0,
             "ticks": ""
            },
            "colorscale": [
             [
              0,
              "#0d0887"
             ],
             [
              0.1111111111111111,
              "#46039f"
             ],
             [
              0.2222222222222222,
              "#7201a8"
             ],
             [
              0.3333333333333333,
              "#9c179e"
             ],
             [
              0.4444444444444444,
              "#bd3786"
             ],
             [
              0.5555555555555556,
              "#d8576b"
             ],
             [
              0.6666666666666666,
              "#ed7953"
             ],
             [
              0.7777777777777778,
              "#fb9f3a"
             ],
             [
              0.8888888888888888,
              "#fdca26"
             ],
             [
              1,
              "#f0f921"
             ]
            ],
            "type": "surface"
           }
          ],
          "table": [
           {
            "cells": {
             "fill": {
              "color": "#EBF0F8"
             },
             "line": {
              "color": "white"
             }
            },
            "header": {
             "fill": {
              "color": "#C8D4E3"
             },
             "line": {
              "color": "white"
             }
            },
            "type": "table"
           }
          ]
         },
         "layout": {
          "annotationdefaults": {
           "arrowcolor": "#2a3f5f",
           "arrowhead": 0,
           "arrowwidth": 1
          },
          "autotypenumbers": "strict",
          "coloraxis": {
           "colorbar": {
            "outlinewidth": 0,
            "ticks": ""
           }
          },
          "colorscale": {
           "diverging": [
            [
             0,
             "#8e0152"
            ],
            [
             0.1,
             "#c51b7d"
            ],
            [
             0.2,
             "#de77ae"
            ],
            [
             0.3,
             "#f1b6da"
            ],
            [
             0.4,
             "#fde0ef"
            ],
            [
             0.5,
             "#f7f7f7"
            ],
            [
             0.6,
             "#e6f5d0"
            ],
            [
             0.7,
             "#b8e186"
            ],
            [
             0.8,
             "#7fbc41"
            ],
            [
             0.9,
             "#4d9221"
            ],
            [
             1,
             "#276419"
            ]
           ],
           "sequential": [
            [
             0,
             "#0d0887"
            ],
            [
             0.1111111111111111,
             "#46039f"
            ],
            [
             0.2222222222222222,
             "#7201a8"
            ],
            [
             0.3333333333333333,
             "#9c179e"
            ],
            [
             0.4444444444444444,
             "#bd3786"
            ],
            [
             0.5555555555555556,
             "#d8576b"
            ],
            [
             0.6666666666666666,
             "#ed7953"
            ],
            [
             0.7777777777777778,
             "#fb9f3a"
            ],
            [
             0.8888888888888888,
             "#fdca26"
            ],
            [
             1,
             "#f0f921"
            ]
           ],
           "sequentialminus": [
            [
             0,
             "#0d0887"
            ],
            [
             0.1111111111111111,
             "#46039f"
            ],
            [
             0.2222222222222222,
             "#7201a8"
            ],
            [
             0.3333333333333333,
             "#9c179e"
            ],
            [
             0.4444444444444444,
             "#bd3786"
            ],
            [
             0.5555555555555556,
             "#d8576b"
            ],
            [
             0.6666666666666666,
             "#ed7953"
            ],
            [
             0.7777777777777778,
             "#fb9f3a"
            ],
            [
             0.8888888888888888,
             "#fdca26"
            ],
            [
             1,
             "#f0f921"
            ]
           ]
          },
          "colorway": [
           "#636efa",
           "#EF553B",
           "#00cc96",
           "#ab63fa",
           "#FFA15A",
           "#19d3f3",
           "#FF6692",
           "#B6E880",
           "#FF97FF",
           "#FECB52"
          ],
          "font": {
           "color": "#2a3f5f"
          },
          "geo": {
           "bgcolor": "white",
           "lakecolor": "white",
           "landcolor": "#E5ECF6",
           "showlakes": true,
           "showland": true,
           "subunitcolor": "white"
          },
          "hoverlabel": {
           "align": "left"
          },
          "hovermode": "closest",
          "mapbox": {
           "style": "light"
          },
          "paper_bgcolor": "white",
          "plot_bgcolor": "#E5ECF6",
          "polar": {
           "angularaxis": {
            "gridcolor": "white",
            "linecolor": "white",
            "ticks": ""
           },
           "bgcolor": "#E5ECF6",
           "radialaxis": {
            "gridcolor": "white",
            "linecolor": "white",
            "ticks": ""
           }
          },
          "scene": {
           "xaxis": {
            "backgroundcolor": "#E5ECF6",
            "gridcolor": "white",
            "gridwidth": 2,
            "linecolor": "white",
            "showbackground": true,
            "ticks": "",
            "zerolinecolor": "white"
           },
           "yaxis": {
            "backgroundcolor": "#E5ECF6",
            "gridcolor": "white",
            "gridwidth": 2,
            "linecolor": "white",
            "showbackground": true,
            "ticks": "",
            "zerolinecolor": "white"
           },
           "zaxis": {
            "backgroundcolor": "#E5ECF6",
            "gridcolor": "white",
            "gridwidth": 2,
            "linecolor": "white",
            "showbackground": true,
            "ticks": "",
            "zerolinecolor": "white"
           }
          },
          "shapedefaults": {
           "line": {
            "color": "#2a3f5f"
           }
          },
          "ternary": {
           "aaxis": {
            "gridcolor": "white",
            "linecolor": "white",
            "ticks": ""
           },
           "baxis": {
            "gridcolor": "white",
            "linecolor": "white",
            "ticks": ""
           },
           "bgcolor": "#E5ECF6",
           "caxis": {
            "gridcolor": "white",
            "linecolor": "white",
            "ticks": ""
           }
          },
          "title": {
           "x": 0.05
          },
          "xaxis": {
           "automargin": true,
           "gridcolor": "white",
           "linecolor": "white",
           "ticks": "",
           "title": {
            "standoff": 15
           },
           "zerolinecolor": "white",
           "zerolinewidth": 2
          },
          "yaxis": {
           "automargin": true,
           "gridcolor": "white",
           "linecolor": "white",
           "ticks": "",
           "title": {
            "standoff": 15
           },
           "zerolinecolor": "white",
           "zerolinewidth": 2
          }
         }
        },
        "title": {
         "text": "Average u_aa vs q_a for Different Women_a"
        },
        "xaxis": {
         "anchor": "y",
         "domain": [
          0,
          1
         ],
         "title": {
          "text": "q_a"
         }
        },
        "yaxis": {
         "anchor": "x",
         "domain": [
          0,
          1
         ],
         "title": {
          "text": "Average u_aa"
         }
        }
       }
      }
     },
     "metadata": {},
     "output_type": "display_data"
    }
   ],
   "source": [
    "\n",
    "# q_aを0から100刻みで試行し、それぞれのu_aaの平均を計算\n",
    "def run_experiments(women_a, men_a, q, q_a_range):\n",
    "    results_list = []\n",
    "    \n",
    "    for q_a in q_a_range:\n",
    "        results = calc_utility(women_a=women_a, men_a=men_a, q=q, q_a=q_a)\n",
    "        results_df = pd.DataFrame(results, columns=['seed', 'u_aa', 'u_top'])\n",
    "        \n",
    "        # 各q_aに対して、u_aaの平均を計算\n",
    "        avg_u_aa = results_df['u_aa'].mean()\n",
    "        results_list.append({'q_a': q_a, 'avg_u_aa': avg_u_aa, 'women_a': women_a})\n",
    "    \n",
    "    return pd.DataFrame(results_list)\n",
    "\n",
    "# 実験の実行：女子の人数を500人から8000人まで500刻みで変更\n",
    "def run_all_experiments(men_a, q, q_a_range, women_a_range):\n",
    "    all_results_list = []\n",
    "    \n",
    "    for women_a in women_a_range:\n",
    "        # 各女性人数に対して実験を実行\n",
    "        results_df = run_experiments(women_a=women_a, men_a=men_a, q=q, q_a_range=q_a_range)\n",
    "        all_results_list.append(results_df)\n",
    "    \n",
    "    # 全ての結果を1つのDataFrameに結合\n",
    "    return pd.concat(all_results_list)\n",
    "\n",
    "# パラメータの設定\n",
    "men_a = 7524\n",
    "q = 3000\n",
    "q_a_range = range(0, 1600, 100)  # q_aを0から1500まで100刻みで試行\n",
    "women_a_range = range(500, 8500, 500)  # 女子の人数を500人から8000人まで500刻み\n",
    "\n",
    "# 全ての実験を実行\n",
    "final_results_df = run_all_experiments(men_a=men_a, q=q, q_a_range=q_a_range, women_a_range=women_a_range)\n",
    "\n",
    "# Plotlyを使用してプロット、色分けはwomen_a（女子の人数）\n",
    "fig = px.line(final_results_df, x='q_a', y='avg_u_aa', color='women_a', \n",
    "              title='Average u_aa vs q_a for Different Women_a',\n",
    "              labels={'q_a': 'q_a', 'avg_u_aa': 'Average u_aa', 'women_a': 'Women Count (women_a)'})\n",
    "fig.show()"
   ]
  }
 ],
 "metadata": {
  "kernelspec": {
   "display_name": "Python 3",
   "language": "python",
   "name": "python3"
  },
  "language_info": {
   "codemirror_mode": {
    "name": "ipython",
    "version": 3
   },
   "file_extension": ".py",
   "mimetype": "text/x-python",
   "name": "python",
   "nbconvert_exporter": "python",
   "pygments_lexer": "ipython3",
   "version": "3.10.4"
  }
 },
 "nbformat": 4,
 "nbformat_minor": 2
}
